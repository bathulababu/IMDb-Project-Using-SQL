{
 "cells": [
  {
   "cell_type": "code",
   "execution_count": 1,
   "id": "23a8ac0d",
   "metadata": {
    "_cell_guid": "b1076dfc-b9ad-4769-8c92-a6c4dae69d19",
    "_uuid": "8f2839f25d086af736a60e9eeb907d3b93b6e0e5",
    "execution": {
     "iopub.execute_input": "2025-03-22T10:11:54.555998Z",
     "iopub.status.busy": "2025-03-22T10:11:54.555627Z",
     "iopub.status.idle": "2025-03-22T10:11:55.571646Z",
     "shell.execute_reply": "2025-03-22T10:11:55.570278Z"
    },
    "papermill": {
     "duration": 1.026198,
     "end_time": "2025-03-22T10:11:55.573425",
     "exception": false,
     "start_time": "2025-03-22T10:11:54.547227",
     "status": "completed"
    },
    "tags": []
   },
   "outputs": [
    {
     "name": "stdout",
     "output_type": "stream",
     "text": [
      "/kaggle/input/imdb-project-sql/sqlite.9.sql\n",
      "/kaggle/input/imdb-project-sql/IMDB SQL project.txt\n",
      "/kaggle/input/imdb-project-sql/movies.sqlite\n"
     ]
    }
   ],
   "source": [
    "# This Python 3 environment comes with many helpful analytics libraries installed\n",
    "# It is defined by the kaggle/python Docker image: https://github.com/kaggle/docker-python\n",
    "# For example, here's several helpful packages to load\n",
    "\n",
    "import numpy as np # linear algebra\n",
    "import pandas as pd # data processing, CSV file I/O (e.g. pd.read_csv)\n",
    "\n",
    "# Input data files are available in the read-only \"../input/\" directory\n",
    "# For example, running this (by clicking run or pressing Shift+Enter) will list all files under the input directory\n",
    "\n",
    "import os\n",
    "for dirname, _, filenames in os.walk('/kaggle/input'):\n",
    "    for filename in filenames:\n",
    "        print(os.path.join(dirname, filename))\n",
    "\n",
    "# You can write up to 20GB to the current directory (/kaggle/working/) that gets preserved as output when you create a version using \"Save & Run All\" \n",
    "# You can also write temporary files to /kaggle/temp/, but they won't be saved outside of the current session"
   ]
  },
  {
   "cell_type": "markdown",
   "id": "51786704",
   "metadata": {
    "papermill": {
     "duration": 0.006533,
     "end_time": "2025-03-22T10:11:55.586870",
     "exception": false,
     "start_time": "2025-03-22T10:11:55.580337",
     "status": "completed"
    },
    "tags": []
   },
   "source": [
    "# Lets Import the modules"
   ]
  },
  {
   "cell_type": "code",
   "execution_count": 2,
   "id": "e5bcc07c",
   "metadata": {
    "execution": {
     "iopub.execute_input": "2025-03-22T10:11:55.600988Z",
     "iopub.status.busy": "2025-03-22T10:11:55.600359Z",
     "iopub.status.idle": "2025-03-22T10:11:55.604986Z",
     "shell.execute_reply": "2025-03-22T10:11:55.603931Z"
    },
    "papermill": {
     "duration": 0.013708,
     "end_time": "2025-03-22T10:11:55.606859",
     "exception": false,
     "start_time": "2025-03-22T10:11:55.593151",
     "status": "completed"
    },
    "tags": []
   },
   "outputs": [],
   "source": [
    "import sqlite3 as sql\n",
    "import pandas as pd"
   ]
  },
  {
   "cell_type": "markdown",
   "id": "85286129",
   "metadata": {
    "papermill": {
     "duration": 0.005942,
     "end_time": "2025-03-22T10:11:55.619172",
     "exception": false,
     "start_time": "2025-03-22T10:11:55.613230",
     "status": "completed"
    },
    "tags": []
   },
   "source": [
    "# Importing movies dataset"
   ]
  },
  {
   "cell_type": "code",
   "execution_count": 3,
   "id": "6cbf6523",
   "metadata": {
    "execution": {
     "iopub.execute_input": "2025-03-22T10:11:55.632814Z",
     "iopub.status.busy": "2025-03-22T10:11:55.632422Z",
     "iopub.status.idle": "2025-03-22T10:11:55.639957Z",
     "shell.execute_reply": "2025-03-22T10:11:55.638808Z"
    },
    "papermill": {
     "duration": 0.016347,
     "end_time": "2025-03-22T10:11:55.641750",
     "exception": false,
     "start_time": "2025-03-22T10:11:55.625403",
     "status": "completed"
    },
    "tags": []
   },
   "outputs": [
    {
     "name": "stdout",
     "output_type": "stream",
     "text": [
      "Database is connected!\n"
     ]
    }
   ],
   "source": [
    "Database = '/kaggle/input/imdb-project-sql/movies.sqlite'\n",
    "db = sql.connect(Database)\n",
    "print(\"Database is connected!\")"
   ]
  },
  {
   "cell_type": "markdown",
   "id": "ee1c643f",
   "metadata": {
    "papermill": {
     "duration": 0.00605,
     "end_time": "2025-03-22T10:11:55.654419",
     "exception": false,
     "start_time": "2025-03-22T10:11:55.648369",
     "status": "completed"
    },
    "tags": []
   },
   "source": [
    "# QUERY 1: Can you get all data about movies?"
   ]
  },
  {
   "cell_type": "code",
   "execution_count": 4,
   "id": "8824b172",
   "metadata": {
    "execution": {
     "iopub.execute_input": "2025-03-22T10:11:55.670043Z",
     "iopub.status.busy": "2025-03-22T10:11:55.669663Z",
     "iopub.status.idle": "2025-03-22T10:11:56.157889Z",
     "shell.execute_reply": "2025-03-22T10:11:56.156731Z"
    },
    "papermill": {
     "duration": 0.497908,
     "end_time": "2025-03-22T10:11:56.160032",
     "exception": false,
     "start_time": "2025-03-22T10:11:55.662124",
     "status": "completed"
    },
    "tags": []
   },
   "outputs": [
    {
     "name": "stdout",
     "output_type": "stream",
     "text": [
      "         id                            original_title     budget  popularity  \\\n",
      "0     43597                                    Avatar  237000000         150   \n",
      "1     43598  Pirates of the Caribbean: At World's End  300000000         139   \n",
      "2     43599                                   Spectre  245000000         107   \n",
      "3     43600                     The Dark Knight Rises  250000000         112   \n",
      "4     43601                               John Carter  260000000          43   \n",
      "...     ...                                       ...        ...         ...   \n",
      "4768  48395                               El Mariachi     220000          14   \n",
      "4769  48396                                 Newlyweds       9000           0   \n",
      "4770  48397                 Signed, Sealed, Delivered          0           1   \n",
      "4771  48398                          Shanghai Calling          0           0   \n",
      "4772  48399                         My Date with Drew          0           1   \n",
      "\n",
      "     release_date     revenue                                     title  \\\n",
      "0      2009-12-10  2787965087                                    Avatar   \n",
      "1      2007-05-19   961000000  Pirates of the Caribbean: At World's End   \n",
      "2      2015-10-26   880674609                                   Spectre   \n",
      "3      2012-07-16  1084939099                     The Dark Knight Rises   \n",
      "4      2012-03-07   284139100                               John Carter   \n",
      "...           ...         ...                                       ...   \n",
      "4768   1992-09-04     2040920                               El Mariachi   \n",
      "4769   2011-12-26           0                                 Newlyweds   \n",
      "4770   2013-10-13           0                 Signed, Sealed, Delivered   \n",
      "4771   2012-05-03           0                          Shanghai Calling   \n",
      "4772   2005-08-05           0                         My Date with Drew   \n",
      "\n",
      "      vote_average  vote_count  \\\n",
      "0              7.2       11800   \n",
      "1              6.9        4500   \n",
      "2              6.3        4466   \n",
      "3              7.6        9106   \n",
      "4              6.1        2124   \n",
      "...            ...         ...   \n",
      "4768           6.6         238   \n",
      "4769           5.9           5   \n",
      "4770           7.0           6   \n",
      "4771           5.7           7   \n",
      "4772           6.3          16   \n",
      "\n",
      "                                               overview  \\\n",
      "0     In the 22nd century, a paraplegic Marine is di...   \n",
      "1     Captain Barbossa, long believed to be dead, ha...   \n",
      "2     A cryptic message from Bond’s past sends him o...   \n",
      "3     Following the death of District Attorney Harve...   \n",
      "4     John Carter is a war-weary, former military ca...   \n",
      "...                                                 ...   \n",
      "4768  El Mariachi just wants to play his guitar and ...   \n",
      "4769  A newlywed couple's honeymoon is upended by th...   \n",
      "4770  \"Signed, Sealed, Delivered\" introduces a dedic...   \n",
      "4771  When ambitious New York attorney Sam is sent t...   \n",
      "4772  Ever since the second grade when he first saw ...   \n",
      "\n",
      "                                                tagline     uid  director_id  \n",
      "0                           Enter the World of Pandora.   19995         4762  \n",
      "1        At the end of the world, the adventure begins.     285         4763  \n",
      "2                                 A Plan No One Escapes  206647         4764  \n",
      "3                                       The Legend Ends   49026         4765  \n",
      "4                  Lost in our world, found in another.   49529         4766  \n",
      "...                                                 ...     ...          ...  \n",
      "4768  He didn't come looking for trouble, but troubl...    9367         5097  \n",
      "4769  A newlywed couple's honeymoon is upended by th...   72766         6485  \n",
      "4770                                               None  231617         7108  \n",
      "4771                           A New Yorker in Shanghai  126186         7109  \n",
      "4772                                               None   25975         7110  \n",
      "\n",
      "[4773 rows x 13 columns]\n"
     ]
    }
   ],
   "source": [
    "q1 = \"\"\"SELECT * FROM MOVIES\"\"\"\n",
    "r1 = pd.read_sql(q1, db)\n",
    "print(r1)"
   ]
  },
  {
   "cell_type": "markdown",
   "id": "336a2943",
   "metadata": {
    "papermill": {
     "duration": 0.006242,
     "end_time": "2025-03-22T10:11:56.173160",
     "exception": false,
     "start_time": "2025-03-22T10:11:56.166918",
     "status": "completed"
    },
    "tags": []
   },
   "source": [
    "# QUERY 2: How do you get all data about directors?"
   ]
  },
  {
   "cell_type": "code",
   "execution_count": 5,
   "id": "40dcef67",
   "metadata": {
    "execution": {
     "iopub.execute_input": "2025-03-22T10:11:56.188018Z",
     "iopub.status.busy": "2025-03-22T10:11:56.187624Z",
     "iopub.status.idle": "2025-03-22T10:11:56.210777Z",
     "shell.execute_reply": "2025-03-22T10:11:56.209463Z"
    },
    "papermill": {
     "duration": 0.03267,
     "end_time": "2025-03-22T10:11:56.212515",
     "exception": false,
     "start_time": "2025-03-22T10:11:56.179845",
     "status": "completed"
    },
    "tags": []
   },
   "outputs": [
    {
     "name": "stdout",
     "output_type": "stream",
     "text": [
      "                   name    id  gender      uid department\n",
      "0         James Cameron  4762       2     2710  Directing\n",
      "1        Gore Verbinski  4763       2     1704  Directing\n",
      "2            Sam Mendes  4764       2       39  Directing\n",
      "3     Christopher Nolan  4765       2      525  Directing\n",
      "4        Andrew Stanton  4766       2        7  Directing\n",
      "...                 ...   ...     ...      ...        ...\n",
      "2344      Shane Carruth  7106       2    76624  Directing\n",
      "2345   Neill Dela Llana  7107       0  1174437  Directing\n",
      "2346        Scott Smith  7108       0  1219158  Directing\n",
      "2347        Daniel Hsia  7109       2   208138  Directing\n",
      "2348   Brian Herzlinger  7110       2    85563  Directing\n",
      "\n",
      "[2349 rows x 5 columns]\n"
     ]
    }
   ],
   "source": [
    "q2 = \"\"\"SELECT * FROM directors\"\"\"\n",
    "r2 = pd.read_sql(q2, db)\n",
    "print(r2)"
   ]
  },
  {
   "cell_type": "markdown",
   "id": "7b804598",
   "metadata": {
    "papermill": {
     "duration": 0.006791,
     "end_time": "2025-03-22T10:11:56.226642",
     "exception": false,
     "start_time": "2025-03-22T10:11:56.219851",
     "status": "completed"
    },
    "tags": []
   },
   "source": [
    "# QUERY 3: Check how many movies are present in imdb?"
   ]
  },
  {
   "cell_type": "code",
   "execution_count": 6,
   "id": "7e299c13",
   "metadata": {
    "execution": {
     "iopub.execute_input": "2025-03-22T10:11:56.242485Z",
     "iopub.status.busy": "2025-03-22T10:11:56.242114Z",
     "iopub.status.idle": "2025-03-22T10:11:56.650314Z",
     "shell.execute_reply": "2025-03-22T10:11:56.649185Z"
    },
    "papermill": {
     "duration": 0.418171,
     "end_time": "2025-03-22T10:11:56.652301",
     "exception": false,
     "start_time": "2025-03-22T10:11:56.234130",
     "status": "completed"
    },
    "tags": []
   },
   "outputs": [
    {
     "name": "stdout",
     "output_type": "stream",
     "text": [
      "   Number_of_movies\n",
      "0              4773\n"
     ]
    }
   ],
   "source": [
    "q3 = \"\"\"SELECT COUNT(*) AS Number_of_movies FROM MOVIES\"\"\"\n",
    "r3 = pd.read_sql(q3, db)\n",
    "print(r3)"
   ]
  },
  {
   "cell_type": "markdown",
   "id": "0c67264d",
   "metadata": {
    "papermill": {
     "duration": 0.007327,
     "end_time": "2025-03-22T10:11:56.666628",
     "exception": false,
     "start_time": "2025-03-22T10:11:56.659301",
     "status": "completed"
    },
    "tags": []
   },
   "source": [
    "# QUERY 4: Find these 3 directors: James Cameron : Luc Besson : Jhon Woo?"
   ]
  },
  {
   "cell_type": "code",
   "execution_count": 7,
   "id": "17eec2a6",
   "metadata": {
    "execution": {
     "iopub.execute_input": "2025-03-22T10:11:56.682114Z",
     "iopub.status.busy": "2025-03-22T10:11:56.681747Z",
     "iopub.status.idle": "2025-03-22T10:11:56.700261Z",
     "shell.execute_reply": "2025-03-22T10:11:56.699077Z"
    },
    "papermill": {
     "duration": 0.028209,
     "end_time": "2025-03-22T10:11:56.702065",
     "exception": false,
     "start_time": "2025-03-22T10:11:56.673856",
     "status": "completed"
    },
    "tags": []
   },
   "outputs": [
    {
     "name": "stdout",
     "output_type": "stream",
     "text": [
      "            name    id  gender    uid department\n",
      "0  James Cameron  4762       2   2710  Directing\n",
      "1       John Woo  4893       2  11401  Directing\n",
      "2     Luc Besson  4949       2     59  Directing\n"
     ]
    }
   ],
   "source": [
    "q4 = \"\"\"SELECT * FROM DIRECTORS WHERE name == 'James Cameron' OR name == 'Luc Besson' OR name == 'John Woo'\"\"\"\n",
    "r4 = pd.read_sql(q4, db)\n",
    "print(r4)"
   ]
  },
  {
   "cell_type": "markdown",
   "id": "fb27694f",
   "metadata": {
    "papermill": {
     "duration": 0.007424,
     "end_time": "2025-03-22T10:11:56.716724",
     "exception": false,
     "start_time": "2025-03-22T10:11:56.709300",
     "status": "completed"
    },
    "tags": []
   },
   "source": [
    "# QUERY 5: Find all directors with name starting with Steven?"
   ]
  },
  {
   "cell_type": "code",
   "execution_count": 8,
   "id": "306042ed",
   "metadata": {
    "execution": {
     "iopub.execute_input": "2025-03-22T10:11:56.732843Z",
     "iopub.status.busy": "2025-03-22T10:11:56.732218Z",
     "iopub.status.idle": "2025-03-22T10:11:56.743637Z",
     "shell.execute_reply": "2025-03-22T10:11:56.742255Z"
    },
    "papermill": {
     "duration": 0.022011,
     "end_time": "2025-03-22T10:11:56.745793",
     "exception": false,
     "start_time": "2025-03-22T10:11:56.723782",
     "status": "completed"
    },
    "tags": []
   },
   "outputs": [
    {
     "name": "stdout",
     "output_type": "stream",
     "text": [
      "                 name    id  gender    uid department\n",
      "0    Steven Spielberg  4799       2    488  Directing\n",
      "1   Steven Soderbergh  4909       2   1884  Directing\n",
      "2        Steven Brill  5013       2  32593  Directing\n",
      "3     Steven Zaillian  5117       2   2260  Directing\n",
      "4        Steven Quale  5216       2  93214  Directing\n",
      "5       Steven Seagal  5221       2  23880  Directing\n",
      "6  Steven E. de Souza  5390       2   1726  Directing\n",
      "7    Steven Shainberg  5803       2  67795  Directing\n",
      "8    Steven R. Monroe  6713       2  88039  Directing\n"
     ]
    }
   ],
   "source": [
    "q5 = \"\"\"SELECT * FROM directors WHERE name LIKE 'Steven%'\"\"\"\n",
    "r5 = pd.read_sql(q5, db)\n",
    "print(r5)"
   ]
  },
  {
   "cell_type": "code",
   "execution_count": 9,
   "id": "b0a5490a",
   "metadata": {
    "execution": {
     "iopub.execute_input": "2025-03-22T10:11:56.762312Z",
     "iopub.status.busy": "2025-03-22T10:11:56.761903Z",
     "iopub.status.idle": "2025-03-22T10:11:56.772103Z",
     "shell.execute_reply": "2025-03-22T10:11:56.770695Z"
    },
    "papermill": {
     "duration": 0.020533,
     "end_time": "2025-03-22T10:11:56.774052",
     "exception": false,
     "start_time": "2025-03-22T10:11:56.753519",
     "status": "completed"
    },
    "tags": []
   },
   "outputs": [
    {
     "name": "stdout",
     "output_type": "stream",
     "text": [
      "   gender\n",
      "0       2\n",
      "1       0\n",
      "2       1\n"
     ]
    }
   ],
   "source": [
    "qa = \"\"\"SELECT DISTINCT GENDER FROM directors\"\"\"\n",
    "ra = pd.read_sql(qa, db)\n",
    "print(ra)"
   ]
  },
  {
   "cell_type": "markdown",
   "id": "e529a5b9",
   "metadata": {
    "papermill": {
     "duration": 0.00758,
     "end_time": "2025-03-22T10:11:56.788719",
     "exception": false,
     "start_time": "2025-03-22T10:11:56.781139",
     "status": "completed"
    },
    "tags": []
   },
   "source": [
    "# QUERY 6: Count female directors?"
   ]
  },
  {
   "cell_type": "code",
   "execution_count": 10,
   "id": "dbeb349f",
   "metadata": {
    "execution": {
     "iopub.execute_input": "2025-03-22T10:11:56.803850Z",
     "iopub.status.busy": "2025-03-22T10:11:56.803443Z",
     "iopub.status.idle": "2025-03-22T10:11:56.812402Z",
     "shell.execute_reply": "2025-03-22T10:11:56.811285Z"
    },
    "papermill": {
     "duration": 0.01855,
     "end_time": "2025-03-22T10:11:56.814179",
     "exception": false,
     "start_time": "2025-03-22T10:11:56.795629",
     "status": "completed"
    },
    "tags": []
   },
   "outputs": [
    {
     "name": "stdout",
     "output_type": "stream",
     "text": [
      "   Number_of_females\n",
      "0                150\n"
     ]
    }
   ],
   "source": [
    "q6 = \"\"\"SELECT COUNT(*) AS Number_of_females FROM directors WHERE gender == 1\"\"\"\n",
    "r6 = pd.read_sql(q6, db)\n",
    "print(r6)\n"
   ]
  },
  {
   "cell_type": "markdown",
   "id": "66a51445",
   "metadata": {
    "papermill": {
     "duration": 0.007169,
     "end_time": "2025-03-22T10:11:56.828337",
     "exception": false,
     "start_time": "2025-03-22T10:11:56.821168",
     "status": "completed"
    },
    "tags": []
   },
   "source": [
    "# QUERY 7: Find the name of the 10th first women directors?"
   ]
  },
  {
   "cell_type": "code",
   "execution_count": 11,
   "id": "7e163e0b",
   "metadata": {
    "execution": {
     "iopub.execute_input": "2025-03-22T10:11:56.844629Z",
     "iopub.status.busy": "2025-03-22T10:11:56.844161Z",
     "iopub.status.idle": "2025-03-22T10:11:56.853358Z",
     "shell.execute_reply": "2025-03-22T10:11:56.852234Z"
    },
    "papermill": {
     "duration": 0.019788,
     "end_time": "2025-03-22T10:11:56.855182",
     "exception": false,
     "start_time": "2025-03-22T10:11:56.835394",
     "status": "completed"
    },
    "tags": []
   },
   "outputs": [
    {
     "name": "stdout",
     "output_type": "stream",
     "text": [
      "     id          name\n",
      "0  5174  Karyn Kusama\n"
     ]
    }
   ],
   "source": [
    "q7 = \"\"\"SELECT id, name FROM directors WHERE gender == 1 ORDER BY id LIMIT 1 OFFSET 10 \"\"\"\n",
    "r7 = pd.read_sql(q7, db)\n",
    "print(r7)"
   ]
  },
  {
   "cell_type": "markdown",
   "id": "4e6a1251",
   "metadata": {
    "papermill": {
     "duration": 0.008055,
     "end_time": "2025-03-22T10:11:56.870343",
     "exception": false,
     "start_time": "2025-03-22T10:11:56.862288",
     "status": "completed"
    },
    "tags": []
   },
   "source": [
    "# QUERY 8: What are the 3 most popular movies?"
   ]
  },
  {
   "cell_type": "code",
   "execution_count": 12,
   "id": "61b5faf1",
   "metadata": {
    "execution": {
     "iopub.execute_input": "2025-03-22T10:11:56.886530Z",
     "iopub.status.busy": "2025-03-22T10:11:56.886121Z",
     "iopub.status.idle": "2025-03-22T10:11:57.272655Z",
     "shell.execute_reply": "2025-03-22T10:11:57.270892Z"
    },
    "papermill": {
     "duration": 0.397349,
     "end_time": "2025-03-22T10:11:57.274740",
     "exception": false,
     "start_time": "2025-03-22T10:11:56.877391",
     "status": "completed"
    },
    "tags": []
   },
   "outputs": [
    {
     "name": "stdout",
     "output_type": "stream",
     "text": [
      "  original_title\n",
      "0        Minions\n",
      "1   Interstellar\n",
      "2       Deadpool\n"
     ]
    }
   ],
   "source": [
    "q8 = \"\"\"SELECT original_title FROM movies ORDER BY popularity DESC LIMIT 3 \"\"\"\n",
    "r8 = pd.read_sql(q8, db)\n",
    "print(r8)"
   ]
  },
  {
   "cell_type": "markdown",
   "id": "c5c3601e",
   "metadata": {
    "papermill": {
     "duration": 0.006951,
     "end_time": "2025-03-22T10:11:57.290023",
     "exception": false,
     "start_time": "2025-03-22T10:11:57.283072",
     "status": "completed"
    },
    "tags": []
   },
   "source": [
    "# QUERY 9: What are the 3 most bankable movies?"
   ]
  },
  {
   "cell_type": "code",
   "execution_count": 13,
   "id": "28cb040e",
   "metadata": {
    "execution": {
     "iopub.execute_input": "2025-03-22T10:11:57.305462Z",
     "iopub.status.busy": "2025-03-22T10:11:57.305092Z",
     "iopub.status.idle": "2025-03-22T10:11:57.695328Z",
     "shell.execute_reply": "2025-03-22T10:11:57.694227Z"
    },
    "papermill": {
     "duration": 0.400006,
     "end_time": "2025-03-22T10:11:57.697069",
     "exception": false,
     "start_time": "2025-03-22T10:11:57.297063",
     "status": "completed"
    },
    "tags": []
   },
   "outputs": [
    {
     "name": "stdout",
     "output_type": "stream",
     "text": [
      "                                original_title\n",
      "0  Pirates of the Caribbean: On Stranger Tides\n",
      "1     Pirates of the Caribbean: At World's End\n",
      "2                      Avengers: Age of Ultron\n"
     ]
    }
   ],
   "source": [
    "q9 = \"\"\"SELECT original_title FROM movies ORDER BY budget DESC LIMIT 3\"\"\"\n",
    "r9 = pd.read_sql(q9, db)\n",
    "print(r9)"
   ]
  },
  {
   "cell_type": "markdown",
   "id": "b3e7cde7",
   "metadata": {
    "papermill": {
     "duration": 0.006806,
     "end_time": "2025-03-22T10:11:57.711075",
     "exception": false,
     "start_time": "2025-03-22T10:11:57.704269",
     "status": "completed"
    },
    "tags": []
   },
   "source": [
    "# QUERY 10: What is the most awarded average vote since the January 1st, 2000?"
   ]
  },
  {
   "cell_type": "code",
   "execution_count": 14,
   "id": "a3440382",
   "metadata": {
    "execution": {
     "iopub.execute_input": "2025-03-22T10:11:57.727244Z",
     "iopub.status.busy": "2025-03-22T10:11:57.726837Z",
     "iopub.status.idle": "2025-03-22T10:11:58.113800Z",
     "shell.execute_reply": "2025-03-22T10:11:58.112358Z"
    },
    "papermill": {
     "duration": 0.39728,
     "end_time": "2025-03-22T10:11:58.115684",
     "exception": false,
     "start_time": "2025-03-22T10:11:57.718404",
     "status": "completed"
    },
    "tags": []
   },
   "outputs": [
    {
     "name": "stdout",
     "output_type": "stream",
     "text": [
      "  original_title  vote_average\n",
      "0      Sardaarji           9.5\n"
     ]
    }
   ],
   "source": [
    "q10 = \"\"\"SELECT original_title, vote_average FROM movies WHERE release_date > \"2000-01-01\" ORDER BY vote_average DESC LIMIT 1\"\"\"\n",
    "r10 = pd.read_sql(q10, db)\n",
    "print(r10)"
   ]
  },
  {
   "cell_type": "markdown",
   "id": "5532d3f9",
   "metadata": {
    "papermill": {
     "duration": 0.006914,
     "end_time": "2025-03-22T10:11:58.129956",
     "exception": false,
     "start_time": "2025-03-22T10:11:58.123042",
     "status": "completed"
    },
    "tags": []
   },
   "source": [
    "# QUERY 11: Which movie(s) were directed by Brenda Chapman?"
   ]
  },
  {
   "cell_type": "code",
   "execution_count": 15,
   "id": "677d1684",
   "metadata": {
    "execution": {
     "iopub.execute_input": "2025-03-22T10:11:58.146007Z",
     "iopub.status.busy": "2025-03-22T10:11:58.145658Z",
     "iopub.status.idle": "2025-03-22T10:11:58.524508Z",
     "shell.execute_reply": "2025-03-22T10:11:58.523228Z"
    },
    "papermill": {
     "duration": 0.389655,
     "end_time": "2025-03-22T10:11:58.526713",
     "exception": false,
     "start_time": "2025-03-22T10:11:58.137058",
     "status": "completed"
    },
    "tags": []
   },
   "outputs": [
    {
     "name": "stdout",
     "output_type": "stream",
     "text": [
      "  original_title\n",
      "0          Brave\n"
     ]
    }
   ],
   "source": [
    "q11 = \"\"\"SELECT M.original_title From movies AS M JOIN directors AS D ON M.director_id = D.id WHERE name == 'Brenda Chapman'\"\"\"\n",
    "r11 = pd.read_sql(q11, db)\n",
    "print(r11)"
   ]
  },
  {
   "cell_type": "markdown",
   "id": "0a9c21ed",
   "metadata": {
    "papermill": {
     "duration": 0.006867,
     "end_time": "2025-03-22T10:11:58.541349",
     "exception": false,
     "start_time": "2025-03-22T10:11:58.534482",
     "status": "completed"
    },
    "tags": []
   },
   "source": [
    "# QUERY 12:Which director is the most bankable?"
   ]
  },
  {
   "cell_type": "code",
   "execution_count": 16,
   "id": "dc277099",
   "metadata": {
    "execution": {
     "iopub.execute_input": "2025-03-22T10:11:58.557952Z",
     "iopub.status.busy": "2025-03-22T10:11:58.557508Z",
     "iopub.status.idle": "2025-03-22T10:11:58.919317Z",
     "shell.execute_reply": "2025-03-22T10:11:58.918118Z"
    },
    "papermill": {
     "duration": 0.372899,
     "end_time": "2025-03-22T10:11:58.921664",
     "exception": false,
     "start_time": "2025-03-22T10:11:58.548765",
     "status": "completed"
    },
    "tags": []
   },
   "outputs": [
    {
     "name": "stdout",
     "output_type": "stream",
     "text": [
      "               name  SUM(revenue)\n",
      "0  Steven Spielberg    9147393164\n"
     ]
    }
   ],
   "source": [
    "q12 = \"\"\"SELECT name, SUM(revenue) FROM movies JOIN directors ON directors.id = movies.director_id GROUP BY director_id ORDER BY SUM(revenue) DESC LIMIT 1\"\"\"\n",
    "r12 = pd.read_sql(q12,db)\n",
    "print(r12)"
   ]
  },
  {
   "cell_type": "markdown",
   "id": "023fea59",
   "metadata": {
    "papermill": {
     "duration": 0.007028,
     "end_time": "2025-03-22T10:11:58.936338",
     "exception": false,
     "start_time": "2025-03-22T10:11:58.929310",
     "status": "completed"
    },
    "tags": []
   },
   "source": [
    "# QUERY 13: Find the average Budget of all the movies?"
   ]
  },
  {
   "cell_type": "code",
   "execution_count": 17,
   "id": "173ab380",
   "metadata": {
    "execution": {
     "iopub.execute_input": "2025-03-22T10:11:58.952888Z",
     "iopub.status.busy": "2025-03-22T10:11:58.952475Z",
     "iopub.status.idle": "2025-03-22T10:11:59.305432Z",
     "shell.execute_reply": "2025-03-22T10:11:59.304212Z"
    },
    "papermill": {
     "duration": 0.363634,
     "end_time": "2025-03-22T10:11:59.307342",
     "exception": false,
     "start_time": "2025-03-22T10:11:58.943708",
     "status": "completed"
    },
    "tags": []
   },
   "outputs": [
    {
     "name": "stdout",
     "output_type": "stream",
     "text": [
      "   average_budget\n",
      "0    2.922461e+07\n"
     ]
    }
   ],
   "source": [
    "q13 = \"\"\"SELECT AVG(budget) AS average_budget FROM movies \"\"\"\n",
    "r13 = pd.read_sql(q13, db)\n",
    "print(r13)"
   ]
  },
  {
   "cell_type": "markdown",
   "id": "af7a6130",
   "metadata": {
    "papermill": {
     "duration": 0.007258,
     "end_time": "2025-03-22T10:11:59.322463",
     "exception": false,
     "start_time": "2025-03-22T10:11:59.315205",
     "status": "completed"
    },
    "tags": []
   },
   "source": [
    "# QUERY 14: Find out all the movies that were released after 2011-01-01?"
   ]
  },
  {
   "cell_type": "code",
   "execution_count": 18,
   "id": "83b1b52c",
   "metadata": {
    "execution": {
     "iopub.execute_input": "2025-03-22T10:11:59.339931Z",
     "iopub.status.busy": "2025-03-22T10:11:59.339514Z",
     "iopub.status.idle": "2025-03-22T10:11:59.716337Z",
     "shell.execute_reply": "2025-03-22T10:11:59.714651Z"
    },
    "papermill": {
     "duration": 0.389144,
     "end_time": "2025-03-22T10:11:59.719195",
     "exception": false,
     "start_time": "2025-03-22T10:11:59.330051",
     "status": "completed"
    },
    "tags": []
   },
   "outputs": [
    {
     "name": "stdout",
     "output_type": "stream",
     "text": [
      "                    original_title\n",
      "0                           Avatar\n",
      "1                          Spectre\n",
      "2            The Dark Knight Rises\n",
      "3                      John Carter\n",
      "4                          Tangled\n",
      "...                            ...\n",
      "1672      All Superheroes Must Die\n",
      "1673  Sanctuary: Quite a Conundrum\n",
      "1674                     Newlyweds\n",
      "1675     Signed, Sealed, Delivered\n",
      "1676              Shanghai Calling\n",
      "\n",
      "[1677 rows x 1 columns]\n"
     ]
    }
   ],
   "source": [
    "q14 = \"\"\"SELECT original_title FROM movies WHERE release_date > 2011-01-01\"\"\"\n",
    "r14 = pd.read_sql(q14,db)\n",
    "print(r14)"
   ]
  },
  {
   "cell_type": "markdown",
   "id": "ff452371",
   "metadata": {
    "papermill": {
     "duration": 0.00964,
     "end_time": "2025-03-22T10:11:59.742533",
     "exception": false,
     "start_time": "2025-03-22T10:11:59.732893",
     "status": "completed"
    },
    "tags": []
   },
   "source": [
    "# QUERY 15: Name all the movies with popularity > 99?"
   ]
  },
  {
   "cell_type": "code",
   "execution_count": 19,
   "id": "f2b9ae9d",
   "metadata": {
    "execution": {
     "iopub.execute_input": "2025-03-22T10:11:59.758751Z",
     "iopub.status.busy": "2025-03-22T10:11:59.758347Z",
     "iopub.status.idle": "2025-03-22T10:12:00.126016Z",
     "shell.execute_reply": "2025-03-22T10:12:00.124147Z"
    },
    "papermill": {
     "duration": 0.377979,
     "end_time": "2025-03-22T10:12:00.128100",
     "exception": false,
     "start_time": "2025-03-22T10:11:59.750121",
     "status": "completed"
    },
    "tags": []
   },
   "outputs": [
    {
     "name": "stdout",
     "output_type": "stream",
     "text": [
      "                              original_title\n",
      "0                                     Avatar\n",
      "1   Pirates of the Caribbean: At World's End\n",
      "2                                    Spectre\n",
      "3                      The Dark Knight Rises\n",
      "4                               Spider-Man 3\n",
      "..                                       ...\n",
      "86                              Pulp Fiction\n",
      "87                             The Godfather\n",
      "88           One Flew Over the Cuckoo's Nest\n",
      "89                                  Whiplash\n",
      "90                                It Follows\n",
      "\n",
      "[91 rows x 1 columns]\n"
     ]
    }
   ],
   "source": [
    "q15 = \"\"\"SELECT original_title FROM movies WHERE popularity > 99\"\"\"\n",
    "r15 = pd.read_sql(q15, db)\n",
    "print(r15)"
   ]
  }
 ],
 "metadata": {
  "kaggle": {
   "accelerator": "none",
   "dataSources": [
    {
     "datasetId": 982232,
     "sourceId": 1659117,
     "sourceType": "datasetVersion"
    }
   ],
   "dockerImageVersionId": 30918,
   "isGpuEnabled": false,
   "isInternetEnabled": false,
   "language": "python",
   "sourceType": "notebook"
  },
  "kernelspec": {
   "display_name": "Python 3",
   "language": "python",
   "name": "python3"
  },
  "language_info": {
   "codemirror_mode": {
    "name": "ipython",
    "version": 3
   },
   "file_extension": ".py",
   "mimetype": "text/x-python",
   "name": "python",
   "nbconvert_exporter": "python",
   "pygments_lexer": "ipython3",
   "version": "3.10.12"
  },
  "papermill": {
   "default_parameters": {},
   "duration": 9.109575,
   "end_time": "2025-03-22T10:12:00.758309",
   "environment_variables": {},
   "exception": null,
   "input_path": "__notebook__.ipynb",
   "output_path": "__notebook__.ipynb",
   "parameters": {},
   "start_time": "2025-03-22T10:11:51.648734",
   "version": "2.6.0"
  }
 },
 "nbformat": 4,
 "nbformat_minor": 5
}
